{
 "cells": [
  {
   "cell_type": "markdown",
   "id": "d3a63277",
   "metadata": {},
   "source": [
    "# 📝 Análisis de Comentarios del New York Times\n",
    "\n",
    "Este proyecto se enfoca exclusivamente en los **comentarios** de los artículos del New York Times, con el objetivo de llevar a cabo un análisis de sentimientos sobre los mismos.\n",
    "\n",
    "## 🎯 Objetivo\n",
    "\n",
    "El objetivo principal es procesar los comentarios realizados por los usuarios, aplicar técnicas de procesamiento de lenguaje natural (NLP), y etiquetarlos con un valor de **sentimiento** (por ejemplo: positivo, negativo o neutral). Una vez enriquecido el dataset con estas etiquetas, se entrenará una red neuronal para que sea capaz de **clasificar automáticamente** nuevos comentarios en base a su contenido textual.\n",
    "\n",
    "## 🧩 Fases del proyecto\n",
    "\n",
    "1. **Carga y consolidación de datos:**  \n",
    "   Se trabajará únicamente con los archivos de comentarios, descartando los artículos.\n",
    "\n",
    "2. **Preprocesamiento del texto:**  \n",
    "   Se limpiará y normalizará el texto de cada comentario mediante técnicas como:\n",
    "   - Tokenización\n",
    "   - Conversión a minúsculas\n",
    "   - Eliminación de signos de puntuación\n",
    "   - Lematización\n",
    "   - Remoción de stopwords\n",
    "\n",
    "3. **Análisis de sentimientos:**  \n",
    "   A cada comentario se le asignará una etiqueta de sentimiento utilizando una herramienta de análisis semántico.\n",
    "\n",
    "4. **Entrenamiento de modelo:**  \n",
    "   Con el dataset etiquetado, se entrenará una red neuronal que aprenderá a clasificar nuevos comentarios en función de su sentimiento.\n",
    "\n",
    "5. **Evaluación y visualización:**  \n",
    "   Finalmente se visualizarán las proporciones de sentimientos y se evaluará el desempeño del modelo.\n",
    "\n",
    "Este flujo de trabajo permitirá construir una herramienta capaz de **entender el tono emocional** de los comentarios realizados en la plataforma del New York Times.\n",
    "\n",
    "## 📚 Descripción del Dataset Original\n",
    "\n",
    "Este proyecto se basa en el **New York Times Comments Dataset**, disponible en Kaggle, que contiene comentarios realizados por usuarios en artículos del periódico.\n",
    "\n",
    "El dataset completo incluye dos componentes principales:\n",
    "\n",
    "- **Comentarios**: Más de **2 millones de comentarios**, con **34 columnas** que contienen información detallada como:\n",
    "  - Texto del comentario\n",
    "  - Autor (userID, userDisplayName)\n",
    "  - Fecha y hora de publicación\n",
    "  - Sección y tipo de artículo comentado\n",
    "  - Cantidad de recomendaciones de otros usuarios\n",
    "  - Indicadores de selección por editores, respuestas y abusos\n",
    "\n",
    "- **Artículos**: Aproximadamente **9 000 artículos**, cada uno con **16 columnas** de metadatos como:\n",
    "  - Título del artículo\n",
    "  - Sección y subsección\n",
    "  - Fecha de publicación\n",
    "  - URL del artículo\n",
    "  - ID relacionado con los comentarios\n",
    "\n",
    "🔗 **Descarga directa del dataset en Kaggle**:  \n",
    "[NYT Comments Dataset](https://www.kaggle.com/datasets/aashita/nyt-comments)\n",
    "\n",
    "> ⚠️ Para este proyecto, **solo se han utilizado los comentarios** con el objetivo de realizar un análisis de sentimientos, descartando los metadatos de los artículos.\n",
    "\n",
    "## 🧰 Librerías necesarias\n",
    "\n",
    "A continuación se listan las librerías utilizadas en este proyecto, junto con su propósito principal:\n",
    "\n",
    "- **pandas**: Manipulación y análisis de datos estructurados (DataFrames).\n",
    "- **numpy**: Operaciones matemáticas y estructuras de datos numéricas.\n",
    "- **matplotlib.pyplot**: Visualización de datos en gráficos.\n",
    "- **wordcloud**: Generación de nubes de palabras a partir de texto.\n",
    "- **nltk**: Tokenización, eliminación de stopwords y lematización básica.\n",
    "- **spacy**: Procesamiento de lenguaje natural y lematización avanzada.\n",
    "- **string**: Manejo de caracteres y signos de puntuación.\n",
    "- **textblob**: Análisis de sentimientos basado en reglas.\n",
    "- **sklearn.feature_extraction.text**: Vectorización de texto (Bag of Words, TF-IDF).\n",
    "- **tensorflow / keras**: Construcción y entrenamiento de redes neuronales profundas para clasificación."
   ]
  },
  {
   "cell_type": "code",
   "execution_count": 15,
   "id": "1af76c13",
   "metadata": {},
   "outputs": [
    {
     "name": "stderr",
     "output_type": "stream",
     "text": [
      "[nltk_data] Downloading package punkt to\n",
      "[nltk_data]     C:\\Users\\George\\AppData\\Roaming\\nltk_data...\n",
      "[nltk_data]   Package punkt is already up-to-date!\n",
      "[nltk_data] Downloading package stopwords to\n",
      "[nltk_data]     C:\\Users\\George\\AppData\\Roaming\\nltk_data...\n",
      "[nltk_data]   Package stopwords is already up-to-date!\n",
      "[nltk_data] Downloading package wordnet to\n",
      "[nltk_data]     C:\\Users\\George\\AppData\\Roaming\\nltk_data...\n",
      "[nltk_data]   Package wordnet is already up-to-date!\n",
      "[nltk_data] Downloading package omw-1.4 to\n",
      "[nltk_data]     C:\\Users\\George\\AppData\\Roaming\\nltk_data...\n",
      "[nltk_data]   Package omw-1.4 is already up-to-date!\n",
      "[nltk_data] Downloading package vader_lexicon to\n",
      "[nltk_data]     C:\\Users\\George\\AppData\\Roaming\\nltk_data...\n",
      "[nltk_data]   Package vader_lexicon is already up-to-date!\n"
     ]
    }
   ],
   "source": [
    "# Descargar y descomprimir el dataset de Kaggle\n",
    "import os\n",
    "import kagglehub\n",
    "\n",
    "# Análisis y manipulación de datos\n",
    "import glob\n",
    "import pandas as pd\n",
    "import numpy as np\n",
    "\n",
    "# NLP y vectorización\n",
    "import string\n",
    "from nltk.tokenize import word_tokenize\n",
    "from nltk.corpus import stopwords\n",
    "from nltk.stem import WordNetLemmatizer\n",
    "from nltk.sentiment import SentimentIntensityAnalyzer\n",
    "import nltk\n",
    "import spacy\n",
    "\n",
    "# Descargar recursos de NLTK\n",
    "nltk.download(\"punkt\")\n",
    "nltk.download(\"stopwords\")\n",
    "nltk.download(\"wordnet\")\n",
    "nltk.download(\"omw-1.4\")\n",
    "nltk.download('vader_lexicon')\n",
    "\n",
    "# Preprocesamiento del Dataset\n",
    "from sklearn.model_selection import train_test_split\n",
    "from sklearn.preprocessing import LabelEncoder\n",
    "\n",
    "# Deep Learning con TensorFlow y Keras\n",
    "import tensorflow as tf\n",
    "from tensorflow.keras.preprocessing.text import Tokenizer\n",
    "from tensorflow.keras.preprocessing.sequence import pad_sequences\n",
    "from tensorflow.keras.models import Sequential\n",
    "from tensorflow.keras.layers import Embedding, GlobalAveragePooling1D, Dense\n",
    "\n",
    "# Visualización\n",
    "import matplotlib.pyplot as plt\n",
    "from wordcloud import WordCloud"
   ]
  },
  {
   "cell_type": "markdown",
   "id": "13abe3b3",
   "metadata": {},
   "source": [
    "## 🔍 EDA: Analisis Inicial del Dataset\n",
    "\n",
    "### 🗃️ Carga de Datos\n",
    "\n",
    "El primer paso será cargar los datos desde Kaggle al notebook y determinar el path al archivo. Este dataset está compuesto por 18 archivos, los cuales poseen artículo y comentarios del diario New York Times en diferentes meses de los años 2017 y 2018.\n",
    "\n",
    "Los artículos están conglomerados en 9 archivos CSV. Cada archivo posee un link a cada artículo, con su autor, un resumen y otros datos de interés.\n",
    "\n",
    "| Archivo               | Año / Mes |\n",
    "| --------------------- | --------- |\n",
    "| ArticlesJan2017.csv   | Ene 2017  |\n",
    "| ArticlesFeb2017.csv   | Feb 2017  |\n",
    "| ArticlesMarch2017.csv | Mar 2017  |\n",
    "| ArticlesApril2017.csv | Abr 2017  |\n",
    "| ArticlesMay2017.csv   | May 2017  |\n",
    "| ArticlesJan2018.csv   | Ene 2018  |\n",
    "| ArticlesFeb2018.csv   | Feb 2018  |\n",
    "| ArticlesMarch2018.csv | Mar 2018  |\n",
    "| ArticlesApril2018.csv | Abr 2018  |\n",
    "\n",
    "En el caso de los comentarios, los mismos están también han sido agrupados por mes, pero además de incluir los datos correspondientes a cada comentario (autor, cuerpo del comentario, título, resumen) también poseen información respecto a sobre cuál articulo fueron originalmente posteados.\n",
    "\n",
    "| Archivo               | Año / Mes |\n",
    "| --------------------- | --------- |\n",
    "| CommentsJan2017.csv   | Ene 2017  |\n",
    "| CommentsFeb2017.csv   | Feb 2017  |\n",
    "| CommentsMarch2017.csv | Mar 2017  |\n",
    "| CommentsApril2017.csv | Abr 2017  |\n",
    "| CommentsMay2017.csv   | May 2017  |\n",
    "| CommentsJan2018.csv   | Ene 2018  |\n",
    "| CommentsFeb2018.csv   | Feb 2018  |\n",
    "| CommentsMarch2018.csv | Mar 2018  |\n",
    "| CommentsApril2018.csv | Abr 2018  |"
   ]
  },
  {
   "cell_type": "code",
   "execution_count": 2,
   "id": "f52d12fa",
   "metadata": {},
   "outputs": [
    {
     "name": "stdout",
     "output_type": "stream",
     "text": [
      "Archivos descargados en: C:\\Users\\George\\.cache\\kagglehub\\datasets\\aashita\\nyt-comments\\versions\\13\n"
     ]
    }
   ],
   "source": [
    "# Descargar la última versión del dataset\n",
    "path = kagglehub.dataset_download(\"aashita/nyt-comments\")\n",
    "\n",
    "print(\"Archivos descargados en:\", path)"
   ]
  },
  {
   "cell_type": "markdown",
   "id": "2bfa2ba4",
   "metadata": {},
   "source": [
    "En este notebook solo nos interesan los comentarios, no los artículos, por lo que procederemos a extraer los mismos desde el dataset y determinar cuales son los atributos presentes en cada archivos CSV. El objetivo es determinar aquellos atributos que necesitamos para poder crear una red neuronal capaz de determinar el sentimiento de un comentario."
   ]
  },
  {
   "cell_type": "code",
   "execution_count": 3,
   "id": "11f16091",
   "metadata": {},
   "outputs": [
    {
     "name": "stdout",
     "output_type": "stream",
     "text": [
      "CommentsApril2017.csv → ['approveDate', 'commentBody', 'commentID', 'commentSequence', 'commentTitle', 'commentType', 'createDate', 'depth', 'editorsSelection', 'parentID', 'parentUserDisplayName', 'permID', 'picURL', 'recommendations', 'recommendedFlag', 'replyCount', 'reportAbuseFlag', 'sharing', 'status', 'timespeople', 'trusted', 'updateDate', 'userDisplayName', 'userID', 'userLocation', 'userTitle', 'userURL', 'inReplyTo', 'articleID', 'sectionName', 'newDesk', 'articleWordCount', 'printPage', 'typeOfMaterial']\n",
      "CommentsApril2018.csv → ['approveDate', 'articleID', 'articleWordCount', 'commentBody', 'commentID', 'commentSequence', 'commentTitle', 'commentType', 'createDate', 'depth', 'editorsSelection', 'inReplyTo', 'newDesk', 'parentID', 'parentUserDisplayName', 'permID', 'picURL', 'printPage', 'recommendations', 'recommendedFlag', 'replyCount', 'reportAbuseFlag', 'sectionName', 'sharing', 'status', 'timespeople', 'trusted', 'typeOfMaterial', 'updateDate', 'userDisplayName', 'userID', 'userLocation', 'userTitle', 'userURL']\n",
      "CommentsFeb2017.csv → ['approveDate', 'articleID', 'articleWordCount', 'commentBody', 'commentID', 'commentSequence', 'commentTitle', 'commentType', 'createDate', 'depth', 'editorsSelection', 'inReplyTo', 'newDesk', 'parentID', 'parentUserDisplayName', 'permID', 'picURL', 'printPage', 'recommendations', 'recommendedFlag', 'replyCount', 'reportAbuseFlag', 'sectionName', 'sharing', 'status', 'timespeople', 'trusted', 'updateDate', 'userDisplayName', 'userID', 'userLocation', 'userTitle', 'userURL', 'typeOfMaterial']\n",
      "CommentsFeb2018.csv → ['approveDate', 'articleID', 'articleWordCount', 'commentBody', 'commentID', 'commentSequence', 'commentTitle', 'commentType', 'createDate', 'depth', 'editorsSelection', 'inReplyTo', 'newDesk', 'parentID', 'parentUserDisplayName', 'permID', 'picURL', 'printPage', 'recommendations', 'recommendedFlag', 'replyCount', 'reportAbuseFlag', 'sectionName', 'sharing', 'status', 'timespeople', 'trusted', 'typeOfMaterial', 'updateDate', 'userDisplayName', 'userID', 'userLocation', 'userTitle', 'userURL']\n",
      "CommentsJan2017.csv → ['approveDate', 'articleID', 'articleWordCount', 'commentBody', 'commentID', 'commentSequence', 'commentTitle', 'commentType', 'createDate', 'depth', 'editorsSelection', 'inReplyTo', 'newDesk', 'parentID', 'parentUserDisplayName', 'permID', 'picURL', 'printPage', 'recommendations', 'recommendedFlag', 'replyCount', 'reportAbuseFlag', 'sectionName', 'sharing', 'status', 'timespeople', 'trusted', 'updateDate', 'userDisplayName', 'userID', 'userLocation', 'userTitle', 'userURL', 'typeOfMaterial']\n",
      "CommentsJan2018.csv → ['approveDate', 'articleID', 'articleWordCount', 'commentBody', 'commentID', 'commentSequence', 'commentTitle', 'commentType', 'createDate', 'depth', 'editorsSelection', 'inReplyTo', 'newDesk', 'parentID', 'parentUserDisplayName', 'permID', 'picURL', 'printPage', 'recommendations', 'recommendedFlag', 'replyCount', 'reportAbuseFlag', 'sectionName', 'sharing', 'status', 'timespeople', 'trusted', 'typeOfMaterial', 'updateDate', 'userDisplayName', 'userID', 'userLocation', 'userTitle', 'userURL']\n",
      "CommentsMarch2017.csv → ['approveDate', 'articleID', 'articleWordCount', 'commentBody', 'commentID', 'commentSequence', 'commentTitle', 'commentType', 'createDate', 'depth', 'editorsSelection', 'inReplyTo', 'newDesk', 'parentID', 'parentUserDisplayName', 'permID', 'picURL', 'printPage', 'recommendations', 'recommendedFlag', 'replyCount', 'reportAbuseFlag', 'sectionName', 'sharing', 'status', 'timespeople', 'trusted', 'typeOfMaterial', 'updateDate', 'userDisplayName', 'userID', 'userLocation', 'userTitle', 'userURL']\n",
      "CommentsMarch2018.csv → ['approveDate', 'articleID', 'articleWordCount', 'commentBody', 'commentID', 'commentSequence', 'commentTitle', 'commentType', 'createDate', 'depth', 'editorsSelection', 'inReplyTo', 'newDesk', 'parentID', 'parentUserDisplayName', 'permID', 'picURL', 'printPage', 'recommendations', 'recommendedFlag', 'replyCount', 'reportAbuseFlag', 'sectionName', 'sharing', 'status', 'timespeople', 'trusted', 'updateDate', 'userDisplayName', 'userID', 'userLocation', 'userTitle', 'userURL', 'typeOfMaterial']\n",
      "CommentsMay2017.csv → ['approveDate', 'commentBody', 'commentID', 'commentSequence', 'commentTitle', 'commentType', 'createDate', 'depth', 'editorsSelection', 'parentID', 'parentUserDisplayName', 'permID', 'picURL', 'recommendations', 'recommendedFlag', 'replyCount', 'reportAbuseFlag', 'sharing', 'status', 'timespeople', 'trusted', 'updateDate', 'userDisplayName', 'userID', 'userLocation', 'userTitle', 'userURL', 'inReplyTo', 'articleID', 'sectionName', 'newDesk', 'articleWordCount', 'printPage', 'typeOfMaterial']\n"
     ]
    }
   ],
   "source": [
    "# Buscar solo archivos de comentarios\n",
    "comment_files = sorted([f for f in glob.glob(os.path.join(path, \"*.csv\")) if \"Comments\" in os.path.basename(f)])\n",
    "\n",
    "# Lista para guardar los DataFrames\n",
    "comment_dfs = []\n",
    "\n",
    "# Cargar y guardar información de columnas\n",
    "for file in comment_files:\n",
    "    try:\n",
    "        df = pd.read_csv(file, low_memory=False)\n",
    "        comment_dfs.append(df)\n",
    "        print(f\"{os.path.basename(file)} → {list(df.columns)}\")\n",
    "    except Exception as e:\n",
    "        print(f\"Error al leer {file}: {e}\")"
   ]
  },
  {
   "cell_type": "markdown",
   "id": "000f39d3",
   "metadata": {},
   "source": [
    "### ✂️ Filtrado de Atributos\n",
    "\n",
    "Como se puede observar, cada CSV posee una gran cantidad de atributos. Nosotros solo necesitamos el cuerpo de cada comentario. Algunos datos accesorios que pueden ayudarnos son el ID de cada comentario, que junto con el archivo CSV del que proviene nos permite trazar el mismo con presición a los temas explayados en el artículo asociado, como así también buscar información adicional sobre cada comentario en el dataset original. Esta información podría llegar a ser útil en caso de necesitar filtrar los datos o analizar resultados poco comunes en el análisis que se llevará a cabo.\n",
    "\n",
    "El otro dato que se debe guardar es el usuario al cual pertenece dicho comentario. El motivo por el cual se guarda este dato es para poder analizar si hay usuarios responsables de una gran cantidad de comentarios dentro del dataset, o si la cantidad de comentarios por usuario es relativamente pequeña en comparación con la cantidad total de comentarios. El objetivo es detectar \"bots\" u usuarios que pueda influeciar la red neuronal en caso que siempre lleven a cabo el mismo tipo de comentarios."
   ]
  },
  {
   "cell_type": "code",
   "execution_count": 4,
   "id": "baaed0f7",
   "metadata": {},
   "outputs": [
    {
     "name": "stdout",
     "output_type": "stream",
     "text": [
      "\n",
      "✅ Total de comentarios combinados: 2176364\n"
     ]
    },
    {
     "data": {
      "text/html": [
       "<div>\n",
       "<style scoped>\n",
       "    .dataframe tbody tr th:only-of-type {\n",
       "        vertical-align: middle;\n",
       "    }\n",
       "\n",
       "    .dataframe tbody tr th {\n",
       "        vertical-align: top;\n",
       "    }\n",
       "\n",
       "    .dataframe thead th {\n",
       "        text-align: right;\n",
       "    }\n",
       "</style>\n",
       "<table border=\"1\" class=\"dataframe\">\n",
       "  <thead>\n",
       "    <tr style=\"text-align: right;\">\n",
       "      <th></th>\n",
       "      <th>commentID</th>\n",
       "      <th>commentBody</th>\n",
       "      <th>userID</th>\n",
       "      <th>originalDataset</th>\n",
       "    </tr>\n",
       "  </thead>\n",
       "  <tbody>\n",
       "    <tr>\n",
       "      <th>0</th>\n",
       "      <td>22022598.0</td>\n",
       "      <td>This project makes me happy to be a 30+ year T...</td>\n",
       "      <td>46006296.0</td>\n",
       "      <td>CommentsApril2017.csv</td>\n",
       "    </tr>\n",
       "    <tr>\n",
       "      <th>1</th>\n",
       "      <td>22017350.0</td>\n",
       "      <td>Stunning photos and reportage. Infuriating tha...</td>\n",
       "      <td>29202761.0</td>\n",
       "      <td>CommentsApril2017.csv</td>\n",
       "    </tr>\n",
       "    <tr>\n",
       "      <th>2</th>\n",
       "      <td>22017334.0</td>\n",
       "      <td>Brilliant work from conception to execution. I...</td>\n",
       "      <td>63944806.0</td>\n",
       "      <td>CommentsApril2017.csv</td>\n",
       "    </tr>\n",
       "    <tr>\n",
       "      <th>3</th>\n",
       "      <td>22015913.0</td>\n",
       "      <td>NYT reporters should provide a contributor's l...</td>\n",
       "      <td>1266184.0</td>\n",
       "      <td>CommentsApril2017.csv</td>\n",
       "    </tr>\n",
       "    <tr>\n",
       "      <th>4</th>\n",
       "      <td>22015466.0</td>\n",
       "      <td>Could only have been done in print. Stunning.</td>\n",
       "      <td>61121360.0</td>\n",
       "      <td>CommentsApril2017.csv</td>\n",
       "    </tr>\n",
       "  </tbody>\n",
       "</table>\n",
       "</div>"
      ],
      "text/plain": [
       "    commentID                                        commentBody      userID  \\\n",
       "0  22022598.0  This project makes me happy to be a 30+ year T...  46006296.0   \n",
       "1  22017350.0  Stunning photos and reportage. Infuriating tha...  29202761.0   \n",
       "2  22017334.0  Brilliant work from conception to execution. I...  63944806.0   \n",
       "3  22015913.0  NYT reporters should provide a contributor's l...   1266184.0   \n",
       "4  22015466.0     Could only have been done in print. Stunning.   61121360.0   \n",
       "\n",
       "         originalDataset  \n",
       "0  CommentsApril2017.csv  \n",
       "1  CommentsApril2017.csv  \n",
       "2  CommentsApril2017.csv  \n",
       "3  CommentsApril2017.csv  \n",
       "4  CommentsApril2017.csv  "
      ]
     },
     "execution_count": 4,
     "metadata": {},
     "output_type": "execute_result"
    }
   ],
   "source": [
    "# Crear lista para almacenar los subconjuntos\n",
    "filtered_dfs = []\n",
    "\n",
    "# Iterar sobre los DataFrames y sus nombres de archivo\n",
    "for df, file in zip(comment_dfs, comment_files):\n",
    "    required_cols = {\"commentID\", \"commentBody\", \"userID\"}\n",
    "    available_cols = set(df.columns)\n",
    "\n",
    "    if required_cols.issubset(available_cols):\n",
    "        subset = df[[\"commentID\", \"commentBody\", \"userID\"]].copy()\n",
    "        subset[\"originalDataset\"] = os.path.basename(file)\n",
    "        filtered_dfs.append(subset)\n",
    "    else:\n",
    "        print(f\"⚠️  Columnas faltantes en {os.path.basename(file)} → {required_cols - available_cols}\")\n",
    "\n",
    "# Concatenar todos los subconjuntos válidos\n",
    "all_comments_df = pd.concat(filtered_dfs, ignore_index=True)\n",
    "\n",
    "# Mostrar resultados\n",
    "print(f\"\\n✅ Total de comentarios combinados: {all_comments_df.shape[0]}\")\n",
    "all_comments_df.head()"
   ]
  },
  {
   "cell_type": "markdown",
   "id": "a7b1c493",
   "metadata": {},
   "source": [
    "### 💾 Guardado del Nuevo Dataset\n",
    "\n",
    "Habiendo reducido la cantidad de datos a su expresión mímina, se procede a guardar el nuevo dataset como un archivo CSV simplemente denominado `comments.csv`."
   ]
  },
  {
   "cell_type": "code",
   "execution_count": 5,
   "id": "689a8da4",
   "metadata": {},
   "outputs": [
    {
     "name": "stdout",
     "output_type": "stream",
     "text": [
      "✅ Archivo guardado como: comments.csv\n"
     ]
    }
   ],
   "source": [
    "# Guardar en un archivo CSV\n",
    "output_path = \"comments.csv\"\n",
    "all_comments_df.to_csv(output_path, index=False, encoding=\"utf-8\")\n",
    "\n",
    "print(f\"✅ Archivo guardado como: {output_path}\")"
   ]
  },
  {
   "cell_type": "markdown",
   "id": "4f56c9cb",
   "metadata": {},
   "source": [
    "### 📊 Analisis de Dataset\n",
    "\n",
    "Con el nuevo dataset creado se procederá a determinar algunas características básicas del mismo a través de los métodos ``info()`` y ``describe()``."
   ]
  },
  {
   "cell_type": "code",
   "execution_count": 6,
   "id": "5a7458a2",
   "metadata": {},
   "outputs": [
    {
     "name": "stdout",
     "output_type": "stream",
     "text": [
      "📄 Información del DataFrame:\n",
      "<class 'pandas.core.frame.DataFrame'>\n",
      "RangeIndex: 2176364 entries, 0 to 2176363\n",
      "Data columns (total 4 columns):\n",
      " #   Column           Dtype  \n",
      "---  ------           -----  \n",
      " 0   commentID        float64\n",
      " 1   commentBody      object \n",
      " 2   userID           float64\n",
      " 3   originalDataset  object \n",
      "dtypes: float64(2), object(2)\n",
      "memory usage: 66.4+ MB\n"
     ]
    }
   ],
   "source": [
    "# Cargar el archivo CSV\n",
    "df = pd.read_csv(\"comments.csv\")\n",
    "\n",
    "# Mostrar información general del DataFrame\n",
    "print(\"📄 Información del DataFrame:\")\n",
    "df.info()"
   ]
  },
  {
   "cell_type": "code",
   "execution_count": 7,
   "id": "b10a5676",
   "metadata": {},
   "outputs": [
    {
     "data": {
      "text/html": [
       "<div>\n",
       "<style scoped>\n",
       "    .dataframe tbody tr th:only-of-type {\n",
       "        vertical-align: middle;\n",
       "    }\n",
       "\n",
       "    .dataframe tbody tr th {\n",
       "        vertical-align: top;\n",
       "    }\n",
       "\n",
       "    .dataframe thead th {\n",
       "        text-align: right;\n",
       "    }\n",
       "</style>\n",
       "<table border=\"1\" class=\"dataframe\">\n",
       "  <thead>\n",
       "    <tr style=\"text-align: right;\">\n",
       "      <th></th>\n",
       "      <th>commentID</th>\n",
       "      <th>userID</th>\n",
       "    </tr>\n",
       "  </thead>\n",
       "  <tbody>\n",
       "    <tr>\n",
       "      <th>count</th>\n",
       "      <td>2.176364e+06</td>\n",
       "      <td>2.176364e+06</td>\n",
       "    </tr>\n",
       "    <tr>\n",
       "      <th>mean</th>\n",
       "      <td>2.373128e+07</td>\n",
       "      <td>5.001905e+07</td>\n",
       "    </tr>\n",
       "    <tr>\n",
       "      <th>std</th>\n",
       "      <td>2.200550e+06</td>\n",
       "      <td>2.344529e+07</td>\n",
       "    </tr>\n",
       "    <tr>\n",
       "      <th>min</th>\n",
       "      <td>2.096371e+07</td>\n",
       "      <td>1.045000e+03</td>\n",
       "    </tr>\n",
       "    <tr>\n",
       "      <th>25%</th>\n",
       "      <td>2.176221e+07</td>\n",
       "      <td>3.271695e+07</td>\n",
       "    </tr>\n",
       "    <tr>\n",
       "      <th>50%</th>\n",
       "      <td>2.249832e+07</td>\n",
       "      <td>5.751992e+07</td>\n",
       "    </tr>\n",
       "    <tr>\n",
       "      <th>75%</th>\n",
       "      <td>2.610409e+07</td>\n",
       "      <td>6.780320e+07</td>\n",
       "    </tr>\n",
       "    <tr>\n",
       "      <th>max</th>\n",
       "      <td>2.694126e+07</td>\n",
       "      <td>8.585631e+07</td>\n",
       "    </tr>\n",
       "  </tbody>\n",
       "</table>\n",
       "</div>"
      ],
      "text/plain": [
       "          commentID        userID\n",
       "count  2.176364e+06  2.176364e+06\n",
       "mean   2.373128e+07  5.001905e+07\n",
       "std    2.200550e+06  2.344529e+07\n",
       "min    2.096371e+07  1.045000e+03\n",
       "25%    2.176221e+07  3.271695e+07\n",
       "50%    2.249832e+07  5.751992e+07\n",
       "75%    2.610409e+07  6.780320e+07\n",
       "max    2.694126e+07  8.585631e+07"
      ]
     },
     "execution_count": 7,
     "metadata": {},
     "output_type": "execute_result"
    }
   ],
   "source": [
    "df.describe()"
   ]
  },
  {
   "cell_type": "markdown",
   "id": "26deae93",
   "metadata": {},
   "source": [
    "Podemos ver que hay un total de 2176364 comentarios, y que todos ellos poseen un usuario asignado. Lo que desconocemos es si los usuarios se repiten entre comentarios. Por este motivo vamos a filtrar los 10 usuarios con más comentarios para determinar que tanto peso poseen dentro del dataset."
   ]
  },
  {
   "cell_type": "code",
   "execution_count": 8,
   "id": "1281070d",
   "metadata": {},
   "outputs": [
    {
     "name": "stdout",
     "output_type": "stream",
     "text": [
      "\n",
      "👥 Top 10 usuarios con más comentarios:\n",
      "userID\n",
      "67892453.0    5982\n",
      "11228992.0    3869\n",
      "61986282.0    3708\n",
      "64679318.0    3045\n",
      "37475504.0    2585\n",
      "73928952.0    2412\n",
      "47123844.0    2403\n",
      "17374907.0    2375\n",
      "51878992.0    1995\n",
      "72967915.0    1978\n",
      "Name: count, dtype: int64\n"
     ]
    }
   ],
   "source": [
    "# Top 10 usuarios con más comentarios\n",
    "top_users = df[\"userID\"].value_counts().head(10)\n",
    "print(\"\\n👥 Top 10 usuarios con más comentarios:\")\n",
    "print(top_users)"
   ]
  },
  {
   "cell_type": "markdown",
   "id": "6a4d2c42",
   "metadata": {},
   "source": [
    "El usuario con mayor cantidad de comentarios solo posee 5982 comentarios sobre un total de 2176364, lo que representa solo el 0.27% del dataset total. Esto implica que no se prevee impacto sobre la red neuronal a desarrollar.\n",
    "\n",
    "Veamos entonces como se distribuyen los comentarios en base los CSV originales de los cuales provienen."
   ]
  },
  {
   "cell_type": "code",
   "execution_count": 9,
   "id": "fa4ed0ca",
   "metadata": {},
   "outputs": [
    {
     "name": "stdout",
     "output_type": "stream",
     "text": [
      "\n",
      "📊 Distribución de comentarios por dataset original:\n",
      "originalDataset\n",
      "CommentsMay2017.csv      276389\n",
      "CommentsApril2018.csv    264924\n",
      "CommentsMarch2017.csv    260967\n",
      "CommentsMarch2018.csv    246915\n",
      "CommentsApril2017.csv    243832\n",
      "CommentsFeb2017.csv      233407\n",
      "CommentsJan2017.csv      231449\n",
      "CommentsFeb2018.csv      215282\n",
      "CommentsJan2018.csv      203199\n",
      "Name: count, dtype: int64\n"
     ]
    }
   ],
   "source": [
    "# Distribución de comentarios por dataset original\n",
    "print(\"\\n📊 Distribución de comentarios por dataset original:\")\n",
    "print(df[\"originalDataset\"].value_counts())"
   ]
  },
  {
   "cell_type": "code",
   "execution_count": 10,
   "id": "0e45ee7f",
   "metadata": {},
   "outputs": [
    {
     "data": {
      "image/png": "[encoded data removed]",
      "text/plain": [
       "<Figure size 1200x600 with 1 Axes>"
      ]
     },
     "metadata": {},
     "output_type": "display_data"
    }
   ],
   "source": [
    "# Contar la cantidad de comentarios por dataset original\n",
    "distribution = df[\"originalDataset\"].value_counts().sort_index()\n",
    "\n",
    "# Crear gráfico de barras\n",
    "plt.figure(figsize=(12, 6))\n",
    "distribution.plot(kind=\"bar\", color=\"#4B8BBE\", edgecolor=\"black\")\n",
    "plt.title(\"Distribución de comentarios por dataset original\")\n",
    "plt.xlabel(\"Archivo original\")\n",
    "plt.ylabel(\"Cantidad de comentarios\")\n",
    "plt.xticks(rotation=45, ha='right')\n",
    "plt.grid(axis='y', linestyle='--', alpha=0.7)\n",
    "plt.tight_layout()\n",
    "\n",
    "# Mostrar gráfico\n",
    "plt.show()"
   ]
  },
  {
   "cell_type": "markdown",
   "id": "68962218",
   "metadata": {},
   "source": [
    "La distribución es bastante homogenea, por lo que no se espera un existan problemas al momento de entrenar una red en base a las fuentes de los comentarios."
   ]
  },
  {
   "cell_type": "markdown",
   "id": "737dd79d",
   "metadata": {},
   "source": [
    "## 🔄 NLP: Preprocesamiento de Comentarios\n",
    "\n",
    "Con el objetivo de preparar los comentarios para análisis de texto, se aplicó un proceso de limpieza y normalización sobre cada comentario (`commentBody`). Los pasos fueron los siguientes:\n",
    "\n",
    "### ✨ Pasos del preprocesamiento\n",
    "\n",
    "1. **Tokenización**  \n",
    "   Se separó cada comentario en palabras (tokens) usando `word_tokenize` de NLTK.\n",
    "\n",
    "2. **Conversión a minúsculas**  \n",
    "   Todos los tokens fueron convertidos a minúsculas para reducir variaciones.\n",
    "\n",
    "3. **Eliminación de puntuación**  \n",
    "   Se descartaron todos los tokens que contenían símbolos no alfabéticos.\n",
    "\n",
    "4. **Eliminación de Stopwords**  \n",
    "   Se eliminaron las palabras comunes del idioma inglés (como *the*, *is*, *in*, etc.) utilizando la lista de `stopwords` de NLTK.\n",
    "\n",
    "5. **Lematización**  \n",
    "   Cada palabra fue reducida a su forma base (por ejemplo, *running* → *run*) con `WordNetLemmatizer`.\n",
    "\n",
    "### 💾 Resultado\n",
    "\n",
    "- Se creó una nueva columna en el dataset llamada `tokens`, que contiene la lista limpia de palabras por comentario.\n",
    "- El nuevo dataset fue guardado como:  \n",
    "  **`comments_with_tokens.csv`**\n",
    "\n",
    "### 📦 Ejemplo del resultado:\n",
    "\n",
    "| commentID | commentBody         | tokens                    |\n",
    "|-----------|---------------------|---------------------------|\n",
    "| 101       | This is amazing!!!  | ['amazing']              |\n",
    "| 102       | I love this article | ['love', 'article']      |"
   ]
  },
  {
   "cell_type": "code",
   "execution_count": 11,
   "id": "15e0a7fe",
   "metadata": {},
   "outputs": [
    {
     "name": "stdout",
     "output_type": "stream",
     "text": [
      "Archivo guardado como 'comments_with_tokens.csv' con columna 'tokens' incluida.\n"
     ]
    }
   ],
   "source": [
    "# Inicializar herramientas\n",
    "stop_words = set(stopwords.words(\"english\"))\n",
    "lemmatizer = WordNetLemmatizer()\n",
    "punctuations = set(string.punctuation)\n",
    "\n",
    "def preprocess_text(text):\n",
    "    try:\n",
    "        # Tokenizar\n",
    "        tokens = word_tokenize(str(text))\n",
    "        # Convertir a minúsculas y eliminar puntuación\n",
    "        tokens = [word.lower() for word in tokens if word.isalpha()]\n",
    "        # Eliminar stopwords\n",
    "        tokens = [word for word in tokens if word not in stop_words]\n",
    "        # Lematizar\n",
    "        tokens = [lemmatizer.lemmatize(word) for word in tokens]\n",
    "        return tokens\n",
    "    except:\n",
    "        return []\n",
    "\n",
    "# Aplicar la función a la columna de comentarios\n",
    "df[\"tokens\"] = df[\"commentBody\"].apply(preprocess_text)\n",
    "\n",
    "# Guardar el nuevo CSV\n",
    "df.to_csv(\"comments_with_tokens.csv\", index=False)\n",
    "\n",
    "print(\"Archivo guardado como 'comments_with_tokens.csv' con columna 'tokens' incluida.\")"
   ]
  },
  {
   "cell_type": "markdown",
   "id": "df0c3d3e",
   "metadata": {},
   "source": [
    "## 💬 Análisis de Sentimientos de los Comentarios\n",
    "\n",
    "En esta sección se realiza un análisis de sentimientos utilizando el analizador **VADER** (Valence Aware Dictionary for Sentiment Reasoning), el cual está diseñado específicamente para analizar el sentimiento en textos cortos como los comentarios de redes sociales o artículos de noticias.\n",
    "\n",
    "### 📥 Carga del Dataset\n",
    "Se carga el archivo `comments_with_tokens.csv`, el cual contiene los comentarios procesados y tokenizados.\n",
    "\n",
    "### 🧠 Inicialización del Analizador\n",
    "Se utiliza el módulo `SentimentIntensityAnalyzer` de `nltk.sentiment.vader` para obtener una puntuación de sentimiento para cada comentario.\n",
    "\n",
    "### 🏷️ Clasificación del Sentimiento\n",
    "Cada comentario es evaluado para obtener un puntaje de \"compound\" entre -1 y 1:\n",
    "- Si el puntaje es mayor o igual a **0.05**, el sentimiento es **positivo** 😊.\n",
    "- Si el puntaje es menor o igual a **-0.05**, el sentimiento es **negativo** 😠.\n",
    "- Si el puntaje está entre **-0.05** y **0.05**, el sentimiento es **neutral** 😐.\n",
    "\n",
    "### 🆕 Creación de una Nueva Columna\n",
    "El resultado del análisis de sentimiento es almacenado en una nueva columna llamada `sentiment`.\n",
    "\n",
    "### 💾 Guardado del Resultado\n",
    "Finalmente, se guarda el DataFrame con el nuevo atributo en un archivo llamado `comments_with_sentiment.csv`.\n",
    "\n",
    "Este análisis permite entender la distribución emocional de los comentarios, lo cual puede ser útil para tareas como monitoreo de opinión pública, estudios de comportamiento de usuarios, o evaluación de artículos."
   ]
  },
  {
   "cell_type": "code",
   "execution_count": 12,
   "id": "a5da5ef0",
   "metadata": {},
   "outputs": [
    {
     "name": "stdout",
     "output_type": "stream",
     "text": [
      "sentiment\n",
      "positive    1055690\n",
      "negative     895960\n",
      "neutral      224714\n",
      "Name: count, dtype: int64\n"
     ]
    }
   ],
   "source": [
    "# Inicializar analizador\n",
    "sia = SentimentIntensityAnalyzer()\n",
    "\n",
    "# Cargar el dataset\n",
    "df = pd.read_csv(\"comments_with_tokens.csv\")\n",
    "\n",
    "# Analizar sentimiento de cada comentario\n",
    "def classify_sentiment(text):\n",
    "    score = sia.polarity_scores(str(text))[\"compound\"]\n",
    "    if score >= 0.05:\n",
    "        return \"positive\"\n",
    "    elif score <= -0.05:\n",
    "        return \"negative\"\n",
    "    else:\n",
    "        return \"neutral\"\n",
    "\n",
    "# Crear nueva columna 'sentiment'\n",
    "df[\"sentiment\"] = df[\"commentBody\"].apply(classify_sentiment)\n",
    "\n",
    "# Ver distribución\n",
    "print(df[\"sentiment\"].value_counts())\n",
    "\n",
    "# Guardar el nuevo dataset\n",
    "df.to_csv(\"comments_with_sentiments.csv\", index=False)"
   ]
  },
  {
   "cell_type": "markdown",
   "id": "f44738ee",
   "metadata": {},
   "source": [
    "## 🧪 Separación del Dataset\n",
    "\n",
    "Para entrenar el modelo de clasificación de sentimientos, partimos del dataset enriquecido `comment_with_sentiment.csv`, que contiene los comentarios tokenizados y etiquetados con su correspondiente sentimiento (`positive`, `neutral`, `negative`).\n",
    "\n",
    "El procedimiento seguido fue:\n",
    "\n",
    "- Se extrajo la columna `commentBody` como entrada textual.\n",
    "- La columna `sentiment` se usó como etiqueta.\n",
    "- Se dividió el dataset en un **80% para entrenamiento** y **20% para evaluación**, manteniendo la proporción original de clases mediante `stratify`.\n",
    "\n",
    "Esto asegura una distribución equilibrada de sentimientos en ambos conjuntos."
   ]
  },
  {
   "cell_type": "code",
   "execution_count": 4,
   "id": "86a9d8f9",
   "metadata": {},
   "outputs": [
    {
     "name": "stdout",
     "output_type": "stream",
     "text": [
      "Tamaño del conjunto de entrenamiento: 1741091\n",
      "Tamaño del conjunto de prueba: 435273\n"
     ]
    }
   ],
   "source": [
    "# Cargar el dataset\n",
    "df = pd.read_csv(\"comments_with_sentiments.csv\")\n",
    "\n",
    "# Verificar que la columna 'sentiment' exista\n",
    "assert 'sentiment' in df.columns, \"'sentiment' column not found in dataset.\"\n",
    "\n",
    "# Separar características y etiquetas\n",
    "X = df['commentBody']     # o df['tokens'] si prefieres usar los tokens\n",
    "y = df['sentiment']\n",
    "\n",
    "# Dividir en train y test (80% entrenamiento, 20% prueba)\n",
    "X_train, X_test, y_train, y_test = train_test_split(\n",
    "    X, y, test_size=0.2, random_state=42, stratify=y\n",
    ")\n",
    "\n",
    "# Mostrar tamaños resultantes\n",
    "print(f\"Tamaño del conjunto de entrenamiento: {X_train.shape[0]}\")\n",
    "print(f\"Tamaño del conjunto de prueba: {X_test.shape[0]}\")"
   ]
  },
  {
   "cell_type": "markdown",
   "id": "907cc31c",
   "metadata": {},
   "source": [
    "## 🧾 Preprocesamiento de texto: Tokenización, Secuencias y Padding\n",
    "\n",
    "Para poder utilizar los comentarios en un modelo de red neuronal, debemos convertir el texto en una forma que la red pueda entender: **números**. Para eso usamos un proceso en tres etapas clave:\n",
    "\n",
    "### 🔤 Tokenización\n",
    "\n",
    "La **tokenización** es el proceso de convertir palabras a números. Utilizamos el `Tokenizer` de TensorFlow para:\n",
    "\n",
    "1. Analizar todos los textos y construir un **vocabulario** de palabras frecuentes.\n",
    "2. Asignar un **índice entero** a cada palabra. Por ejemplo:\n",
    "   - `\"happy\"` → 1\n",
    "   - `\"sad\"` → 2\n",
    "3. Palabras que no están en el vocabulario (por límite de tamaño) se etiquetan como `<OOV>` (fuera de vocabulario).\n",
    "\n",
    "### 🔢 Secuencias\n",
    "\n",
    "Una vez entrenado el tokenizer, cada comentario se convierte en una **lista de números**. Por ejemplo:\n",
    "\n",
    "```text\n",
    "\"I am very happy\" → [1, 2, 3, 4]\n",
    "```\n",
    "Cada texto se representa como una secuencia de índices numéricos según el vocabulario.\n",
    "\n",
    "### 🧱 Padding\n",
    "\n",
    "Las redes neuronales requieren que todas las secuencias tengan el mismo tamaño, pero los comentarios tienen diferentes longitudes. Por eso:\n",
    "\n",
    "    Usamos padding para rellenar con ceros (0) las secuencias más cortas.\n",
    "\n",
    "    Usamos truncating para recortar las secuencias más largas.\n",
    "\n",
    "Ejemplo con longitud máxima (MAX_SEQUENCE_LENGTH = 6):\n",
    "\n",
    "| Texto                         | Secuencia                | Secuencia con padding |\n",
    "| ----------------------------- | ------------------------ | --------------------- |\n",
    "| `\"I love it\"`                 | `[1, 2, 3]`              | `[1, 2, 3, 0, 0, 0]`  |\n",
    "| `\"Too complicated text here\"` | `[4, 5, 6, 7, 8, 9, 10]` | `[4, 5, 6, 7, 8, 9]`  |\n",
    "\n",
    "Este proceso asegura que la entrada final para la red sea una matriz de forma (n_muestras, longitud_fija), por ejemplo (10000, 200)."
   ]
  },
  {
   "cell_type": "code",
   "execution_count": null,
   "id": "99bbd44c",
   "metadata": {},
   "outputs": [
    {
     "name": "stdout",
     "output_type": "stream",
     "text": [
      "✅ X_train_pad shape: (1741091, 200)\n",
      "✅ X_test_pad shape: (435273, 200)\n"
     ]
    }
   ],
   "source": [
    "# Asegurarse de que no haya valores nulos en los comentarios\n",
    "X_train = X_train.fillna(\"\").astype(str)\n",
    "X_test = X_test.fillna(\"\").astype(str)\n",
    "\n",
    "MAX_NUM_WORDS = 10000\n",
    "MAX_SEQUENCE_LENGTH = 200\n",
    "\n",
    "tokenizer = Tokenizer(num_words=MAX_NUM_WORDS, oov_token=\"<OOV>\")\n",
    "tokenizer.fit_on_texts(X_train)\n",
    "\n",
    "X_train_seq = tokenizer.texts_to_sequences(X_train)\n",
    "X_test_seq = tokenizer.texts_to_sequences(X_test)\n",
    "\n",
    "X_train_pad = pad_sequences(X_train_seq, maxlen=MAX_SEQUENCE_LENGTH, padding='post', truncating='post')\n",
    "X_test_pad = pad_sequences(X_test_seq, maxlen=MAX_SEQUENCE_LENGTH, padding='post', truncating='post')\n",
    "\n",
    "print(f\"✅ X_train_pad shape: {X_train_pad.shape}\")\n",
    "print(f\"✅ X_test_pad shape: {X_test_pad.shape}\")"
   ]
  },
  {
   "cell_type": "markdown",
   "id": "f84e915a",
   "metadata": {},
   "source": [
    "## 🧠 Arquitectura del Modelo de Clasificación de Sentimientos\n",
    "\n",
    "El modelo de clasificación de sentimientos se construye utilizando **TensorFlow/Keras**, y está diseñado para procesar texto mediante embeddings y capas profundas que capturan relaciones contextuales.\n",
    "\n",
    "### 🧬 Estructura del modelo\n",
    "\n",
    "- **Input Layer**: recibe secuencias de texto preprocesado.\n",
    "- **Embedding Layer**: convierte cada palabra en un vector denso de tamaño fijo. Esto permite representar el significado de las palabras de manera distribuida.\n",
    "- **GlobalAveragePooling1D**: reduce la dimensionalidad.\n",
    "- **Dense Layer(s)**: capas completamente conectadas que refinan las representaciones.\n",
    "- **Output Layer (Softmax)**: devuelve una distribución de probabilidad para las clases `positive`, `neutral`, `negative`.\n",
    "\n",
    "### ⚙️ Compilación del modelo\n",
    "\n",
    "- **Loss**: `sparse_categorical_crossentropy` (ya que las etiquetas son enteros y hay más de 2 clases).\n",
    "- **Optimizer**: `Adam`\n",
    "- **Metrics**: `accuracy`\n",
    "\n",
    "Esta arquitectura permite que el modelo aprenda patrones sintácticos y semánticos que caracterizan los distintos tipos de sentimientos expresados en los comentarios."
   ]
  },
  {
   "cell_type": "code",
   "execution_count": 10,
   "id": "b1d1fa91",
   "metadata": {},
   "outputs": [
    {
     "name": "stderr",
     "output_type": "stream",
     "text": [
      "d:\\comment_analysis\\env\\Lib\\site-packages\\keras\\src\\layers\\core\\embedding.py:90: UserWarning: Argument `input_length` is deprecated. Just remove it.\n",
      "  warnings.warn(\n"
     ]
    },
    {
     "data": {
      "text/html": [
       "<pre style=\"white-space:pre;overflow-x:auto;line-height:normal;font-family:Menlo,'DejaVu Sans Mono',consolas,'Courier New',monospace\"><span style=\"font-weight: bold\">Model: \"sequential\"</span>\n",
       "</pre>\n"
      ],
      "text/plain": [
       "\u001b[1mModel: \"sequential\"\u001b[0m\n"
      ]
     },
     "metadata": {},
     "output_type": "display_data"
    },
    {
     "data": {
      "text/html": [
       "<pre style=\"white-space:pre;overflow-x:auto;line-height:normal;font-family:Menlo,'DejaVu Sans Mono',consolas,'Courier New',monospace\">┏━━━━━━━━━━━━━━━━━━━━━━━━━━━━━━━━━┳━━━━━━━━━━━━━━━━━━━━━━━━┳━━━━━━━━━━━━━━━┓\n",
       "┃<span style=\"font-weight: bold\"> Layer (type)                    </span>┃<span style=\"font-weight: bold\"> Output Shape           </span>┃<span style=\"font-weight: bold\">       Param # </span>┃\n",
       "┡━━━━━━━━━━━━━━━━━━━━━━━━━━━━━━━━━╇━━━━━━━━━━━━━━━━━━━━━━━━╇━━━━━━━━━━━━━━━┩\n",
       "│ embedding (<span style=\"color: #0087ff; text-decoration-color: #0087ff\">Embedding</span>)           │ ?                      │   <span style=\"color: #00af00; text-decoration-color: #00af00\">0</span> (unbuilt) │\n",
       "├─────────────────────────────────┼────────────────────────┼───────────────┤\n",
       "│ global_average_pooling1d        │ ?                      │             <span style=\"color: #00af00; text-decoration-color: #00af00\">0</span> │\n",
       "│ (<span style=\"color: #0087ff; text-decoration-color: #0087ff\">GlobalAveragePooling1D</span>)        │                        │               │\n",
       "├─────────────────────────────────┼────────────────────────┼───────────────┤\n",
       "│ dense (<span style=\"color: #0087ff; text-decoration-color: #0087ff\">Dense</span>)                   │ ?                      │   <span style=\"color: #00af00; text-decoration-color: #00af00\">0</span> (unbuilt) │\n",
       "├─────────────────────────────────┼────────────────────────┼───────────────┤\n",
       "│ dense_1 (<span style=\"color: #0087ff; text-decoration-color: #0087ff\">Dense</span>)                 │ ?                      │   <span style=\"color: #00af00; text-decoration-color: #00af00\">0</span> (unbuilt) │\n",
       "└─────────────────────────────────┴────────────────────────┴───────────────┘\n",
       "</pre>\n"
      ],
      "text/plain": [
       "┏━━━━━━━━━━━━━━━━━━━━━━━━━━━━━━━━━┳━━━━━━━━━━━━━━━━━━━━━━━━┳━━━━━━━━━━━━━━━┓\n",
       "┃\u001b[1m \u001b[0m\u001b[1mLayer (type)                   \u001b[0m\u001b[1m \u001b[0m┃\u001b[1m \u001b[0m\u001b[1mOutput Shape          \u001b[0m\u001b[1m \u001b[0m┃\u001b[1m \u001b[0m\u001b[1m      Param #\u001b[0m\u001b[1m \u001b[0m┃\n",
       "┡━━━━━━━━━━━━━━━━━━━━━━━━━━━━━━━━━╇━━━━━━━━━━━━━━━━━━━━━━━━╇━━━━━━━━━━━━━━━┩\n",
       "│ embedding (\u001b[38;5;33mEmbedding\u001b[0m)           │ ?                      │   \u001b[38;5;34m0\u001b[0m (unbuilt) │\n",
       "├─────────────────────────────────┼────────────────────────┼───────────────┤\n",
       "│ global_average_pooling1d        │ ?                      │             \u001b[38;5;34m0\u001b[0m │\n",
       "│ (\u001b[38;5;33mGlobalAveragePooling1D\u001b[0m)        │                        │               │\n",
       "├─────────────────────────────────┼────────────────────────┼───────────────┤\n",
       "│ dense (\u001b[38;5;33mDense\u001b[0m)                   │ ?                      │   \u001b[38;5;34m0\u001b[0m (unbuilt) │\n",
       "├─────────────────────────────────┼────────────────────────┼───────────────┤\n",
       "│ dense_1 (\u001b[38;5;33mDense\u001b[0m)                 │ ?                      │   \u001b[38;5;34m0\u001b[0m (unbuilt) │\n",
       "└─────────────────────────────────┴────────────────────────┴───────────────┘\n"
      ]
     },
     "metadata": {},
     "output_type": "display_data"
    },
    {
     "data": {
      "text/html": [
       "<pre style=\"white-space:pre;overflow-x:auto;line-height:normal;font-family:Menlo,'DejaVu Sans Mono',consolas,'Courier New',monospace\"><span style=\"font-weight: bold\"> Total params: </span><span style=\"color: #00af00; text-decoration-color: #00af00\">0</span> (0.00 B)\n",
       "</pre>\n"
      ],
      "text/plain": [
       "\u001b[1m Total params: \u001b[0m\u001b[38;5;34m0\u001b[0m (0.00 B)\n"
      ]
     },
     "metadata": {},
     "output_type": "display_data"
    },
    {
     "data": {
      "text/html": [
       "<pre style=\"white-space:pre;overflow-x:auto;line-height:normal;font-family:Menlo,'DejaVu Sans Mono',consolas,'Courier New',monospace\"><span style=\"font-weight: bold\"> Trainable params: </span><span style=\"color: #00af00; text-decoration-color: #00af00\">0</span> (0.00 B)\n",
       "</pre>\n"
      ],
      "text/plain": [
       "\u001b[1m Trainable params: \u001b[0m\u001b[38;5;34m0\u001b[0m (0.00 B)\n"
      ]
     },
     "metadata": {},
     "output_type": "display_data"
    },
    {
     "data": {
      "text/html": [
       "<pre style=\"white-space:pre;overflow-x:auto;line-height:normal;font-family:Menlo,'DejaVu Sans Mono',consolas,'Courier New',monospace\"><span style=\"font-weight: bold\"> Non-trainable params: </span><span style=\"color: #00af00; text-decoration-color: #00af00\">0</span> (0.00 B)\n",
       "</pre>\n"
      ],
      "text/plain": [
       "\u001b[1m Non-trainable params: \u001b[0m\u001b[38;5;34m0\u001b[0m (0.00 B)\n"
      ]
     },
     "metadata": {},
     "output_type": "display_data"
    }
   ],
   "source": [
    "# Definir parámetros clave\n",
    "MAX_NUM_WORDS = 10000         # Tamaño del vocabulario\n",
    "EMBEDDING_DIM = 64            # Dimensión de los vectores de embedding\n",
    "MAX_SEQUENCE_LENGTH = 200     # Longitud fija de entrada\n",
    "NUM_CLASSES = 3               # positive, neutral, negative\n",
    "\n",
    "# Crear el modelo secuencial\n",
    "model = Sequential([\n",
    "    # Capa de embedding: convierte índices de palabras en vectores densos\n",
    "    Embedding(input_dim=MAX_NUM_WORDS, output_dim=EMBEDDING_DIM, input_length=MAX_SEQUENCE_LENGTH),\n",
    "\n",
    "    # Capa de pooling: reduce la secuencia a un vector promedio\n",
    "    GlobalAveragePooling1D(),\n",
    "\n",
    "    # Capa densa oculta: activa relaciones no lineales\n",
    "    Dense(64, activation='relu'),\n",
    "\n",
    "    # Capa de salida: devuelve probabilidades para 3 clases\n",
    "    Dense(NUM_CLASSES, activation='softmax')\n",
    "])\n",
    "\n",
    "# Compilar el modelo con optimizador, función de pérdida y métrica\n",
    "model.compile(\n",
    "    loss='sparse_categorical_crossentropy',\n",
    "    optimizer='adam',\n",
    "    metrics=['accuracy']\n",
    ")\n",
    "\n",
    "# Mostrar resumen del modelo\n",
    "model.summary()"
   ]
  },
  {
   "cell_type": "code",
   "execution_count": 19,
   "id": "ad0fb242",
   "metadata": {},
   "outputs": [
    {
     "name": "stdout",
     "output_type": "stream",
     "text": [
      "Epoch 1/10\n",
      "\u001b[1m12243/12243\u001b[0m \u001b[32m━━━━━━━━━━━━━━━━━━━━\u001b[0m\u001b[37m\u001b[0m \u001b[1m316s\u001b[0m 26ms/step - accuracy: 0.8501 - loss: 0.4016 - val_accuracy: 0.8549 - val_loss: 0.3995\n",
      "Epoch 2/10\n",
      "\u001b[1m12243/12243\u001b[0m \u001b[32m━━━━━━━━━━━━━━━━━━━━\u001b[0m\u001b[37m\u001b[0m \u001b[1m333s\u001b[0m 27ms/step - accuracy: 0.8534 - loss: 0.3942 - val_accuracy: 0.8426 - val_loss: 0.4200\n",
      "Epoch 3/10\n",
      "\u001b[1m12243/12243\u001b[0m \u001b[32m━━━━━━━━━━━━━━━━━━━━\u001b[0m\u001b[37m\u001b[0m \u001b[1m334s\u001b[0m 27ms/step - accuracy: 0.8546 - loss: 0.3903 - val_accuracy: 0.8595 - val_loss: 0.3849\n",
      "Epoch 4/10\n",
      "\u001b[1m12243/12243\u001b[0m \u001b[32m━━━━━━━━━━━━━━━━━━━━\u001b[0m\u001b[37m\u001b[0m \u001b[1m390s\u001b[0m 28ms/step - accuracy: 0.8564 - loss: 0.3860 - val_accuracy: 0.8472 - val_loss: 0.4069\n",
      "Epoch 5/10\n",
      "\u001b[1m12243/12243\u001b[0m \u001b[32m━━━━━━━━━━━━━━━━━━━━\u001b[0m\u001b[37m\u001b[0m \u001b[1m371s\u001b[0m 30ms/step - accuracy: 0.8580 - loss: 0.3813 - val_accuracy: 0.8597 - val_loss: 0.3901\n",
      "Epoch 6/10\n",
      "\u001b[1m12243/12243\u001b[0m \u001b[32m━━━━━━━━━━━━━━━━━━━━\u001b[0m\u001b[37m\u001b[0m \u001b[1m384s\u001b[0m 31ms/step - accuracy: 0.8590 - loss: 0.3786 - val_accuracy: 0.8586 - val_loss: 0.3879\n",
      "Epoch 7/10\n",
      "\u001b[1m12243/12243\u001b[0m \u001b[32m━━━━━━━━━━━━━━━━━━━━\u001b[0m\u001b[37m\u001b[0m \u001b[1m405s\u001b[0m 33ms/step - accuracy: 0.8613 - loss: 0.3724 - val_accuracy: 0.7955 - val_loss: 0.5231\n",
      "Epoch 8/10\n",
      "\u001b[1m12243/12243\u001b[0m \u001b[32m━━━━━━━━━━━━━━━━━━━━\u001b[0m\u001b[37m\u001b[0m \u001b[1m417s\u001b[0m 34ms/step - accuracy: 0.8618 - loss: 0.3705 - val_accuracy: 0.8603 - val_loss: 0.3851\n",
      "Epoch 9/10\n",
      "\u001b[1m12243/12243\u001b[0m \u001b[32m━━━━━━━━━━━━━━━━━━━━\u001b[0m\u001b[37m\u001b[0m \u001b[1m487s\u001b[0m 38ms/step - accuracy: 0.8627 - loss: 0.3682 - val_accuracy: 0.8435 - val_loss: 0.4122\n",
      "Epoch 10/10\n",
      "\u001b[1m12243/12243\u001b[0m \u001b[32m━━━━━━━━━━━━━━━━━━━━\u001b[0m\u001b[37m\u001b[0m \u001b[1m405s\u001b[0m 33ms/step - accuracy: 0.8644 - loss: 0.3641 - val_accuracy: 0.8589 - val_loss: 0.3903\n"
     ]
    }
   ],
   "source": [
    "# Crear codificador\n",
    "label_encoder = LabelEncoder()\n",
    "\n",
    "# Ajustar con todos los valores posibles\n",
    "y_train_encoded = label_encoder.fit_transform(y_train)\n",
    "y_test_encoded = label_encoder.transform(y_test)\n",
    "\n",
    "# Entrenamiento de modelo\n",
    "history = model.fit(\n",
    "    X_train_pad, y_train_encoded,\n",
    "    validation_split=0.1,\n",
    "    epochs=10,\n",
    "    batch_size=128,\n",
    "    verbose=1\n",
    ")"
   ]
  },
  {
   "cell_type": "code",
   "execution_count": 20,
   "id": "8beadff7",
   "metadata": {},
   "outputs": [
    {
     "name": "stdout",
     "output_type": "stream",
     "text": [
      "\u001b[1m13603/13603\u001b[0m \u001b[32m━━━━━━━━━━━━━━━━━━━━\u001b[0m\u001b[37m\u001b[0m \u001b[1m32s\u001b[0m 2ms/step - accuracy: 0.8581 - loss: 0.3927\n",
      "Test accuracy: 0.858\n"
     ]
    },
    {
     "data": {
      "image/png": "[encoded data removed]",
      "text/plain": [
       "<Figure size 1200x400 with 2 Axes>"
      ]
     },
     "metadata": {},
     "output_type": "display_data"
    }
   ],
   "source": [
    "# Evaluación en test\n",
    "test_loss, test_acc = model.evaluate(X_test_pad, y_test_encoded)\n",
    "print(f\"Test accuracy: {test_acc:.3f}\")\n",
    "\n",
    "# Curvas de entrenamiento\n",
    "plt.figure(figsize=(12,4))\n",
    "plt.subplot(1,2,1)\n",
    "plt.plot(history.history['loss'], label='train')\n",
    "plt.plot(history.history['val_loss'], label='val')\n",
    "plt.title('Pérdida'); plt.legend()\n",
    "plt.subplot(1,2,2)\n",
    "plt.plot(history.history['accuracy'], label='train')\n",
    "plt.plot(history.history['val_accuracy'], label='val')\n",
    "plt.title('Precisión'); plt.legend()\n",
    "plt.show()"
   ]
  }
 ],
 "metadata": {
  "kernelspec": {
   "display_name": "env",
   "language": "python",
   "name": "python3"
  },
  "language_info": {
   "codemirror_mode": {
    "name": "ipython",
    "version": 3
   },
   "file_extension": ".py",
   "mimetype": "text/x-python",
   "name": "python",
   "nbconvert_exporter": "python",
   "pygments_lexer": "ipython3",
   "version": "3.11.9"
  }
 },
 "nbformat": 4,
 "nbformat_minor": 5
}
